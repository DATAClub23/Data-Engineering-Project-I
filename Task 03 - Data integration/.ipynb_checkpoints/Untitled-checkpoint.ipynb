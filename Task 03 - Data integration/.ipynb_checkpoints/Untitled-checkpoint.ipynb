{
 "cells": [
  {
   "cell_type": "code",
   "execution_count": 1,
   "id": "a4a83384",
   "metadata": {},
   "outputs": [],
   "source": [
    "# Importing the required library\n",
    "from mysql import connector"
   ]
  },
  {
   "cell_type": "code",
   "execution_count": 2,
   "id": "16d9bf9a",
   "metadata": {},
   "outputs": [],
   "source": [
    "# Making the connection (Make sure MySQL & Apache services are running)\n",
    "conn = connector.Connect(host=\"localhost\",    # your host, usually localhost\n",
    "                         user=\"root\",         # your username\n",
    "                         port=\"3306\")         # port (3306 default)\n",
    "# Creating the cursor\n",
    "cur = conn.cursor()\n"
   ]
  },
  {
   "cell_type": "code",
   "execution_count": 6,
   "id": "5b0c00d4",
   "metadata": {},
   "outputs": [],
   "source": [
    "# Creating our database\n",
    "try:\n",
    "    cur.execute(\"CREATE DATABASE club_db\")\n",
    "    cur.execute(\"commit\")\n",
    "    # Closing the connection to the default database\n",
    "    conn.close()\n",
    "except connector.Error as e:\n",
    "    print(e)"
   ]
  },
  {
   "cell_type": "code",
   "execution_count": 7,
   "id": "407d15a2",
   "metadata": {},
   "outputs": [
    {
     "name": "stdout",
     "output_type": "stream",
     "text": [
      "Connected to club_db\n"
     ]
    }
   ],
   "source": [
    "# Connecting to the new database\n",
    "conn = connector.Connect(host=\"localhost\",    # your host, usually localhost\n",
    "                         user=\"root\",         # your username\n",
    "                         port=\"3306\",         # port (3306 default)\n",
    "                         db=\"club_db\")        # name of the database\n",
    "# Creating the cursor\n",
    "cur = conn.cursor()\n",
    "print(\"Connected to club_db\")"
   ]
  },
  {
   "cell_type": "code",
   "execution_count": 8,
   "id": "04bba426",
   "metadata": {},
   "outputs": [],
   "source": [
    "def create_table(conn, cur):\n",
    "    # Table data\n",
    "    table_name = input('Enter the name of the table: ')\n",
    "    cols_types = input(\"Enter the columns (separeted with comma) with their data types: \")\n",
    "    table_name = table_name.strip()\n",
    "    # Creating the table\n",
    "    try:\n",
    "        cur.execute(\"CREATE TABLE IF NOT EXISTS \"+table_name+\" (\"+cols_types+\");\")\n",
    "        conn.commit()\n",
    "        \n",
    "        return \"Table \"+table_name+\" created!!\"\n",
    "    except connector.Error as e:\n",
    "        return e"
   ]
  },
  {
   "cell_type": "code",
   "execution_count": 9,
   "id": "1172d267",
   "metadata": {},
   "outputs": [],
   "source": [
    "#film_id int PRIMARY KEY, title varchar(50), description varchar(100), release_year varchar(30), language_id varchar(30), rental_duration varchar(30), rental_rate varchar(30), length varchar(30), replacement_cost varchar(30), rating varchar(30), last_update varchar(30), special_features varchar(30), fulltext varchar2(255)"
   ]
  }
 ],
 "metadata": {
  "kernelspec": {
   "display_name": "Python 3 (ipykernel)",
   "language": "python",
   "name": "python3"
  },
  "language_info": {
   "codemirror_mode": {
    "name": "ipython",
    "version": 3
   },
   "file_extension": ".py",
   "mimetype": "text/x-python",
   "name": "python",
   "nbconvert_exporter": "python",
   "pygments_lexer": "ipython3",
   "version": "3.10.7"
  }
 },
 "nbformat": 4,
 "nbformat_minor": 5
}
