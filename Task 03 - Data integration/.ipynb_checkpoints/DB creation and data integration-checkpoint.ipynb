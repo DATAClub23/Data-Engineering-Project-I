{
 "cells": [
  {
   "cell_type": "markdown",
   "id": "66ed8496",
   "metadata": {},
   "source": [
    "# Required packages"
   ]
  },
  {
   "cell_type": "code",
   "execution_count": 3,
   "id": "c99cc2df",
   "metadata": {},
   "outputs": [
    {
     "name": "stdout",
     "output_type": "stream",
     "text": [
      "Collecting mysql-connector-python\n",
      "  Downloading mysql_connector_python-8.0.32-cp39-cp39-win_amd64.whl (7.9 MB)\n",
      "     ---------------------------------------- 7.9/7.9 MB 1.1 MB/s eta 0:00:00\n",
      "Collecting protobuf<=3.20.3,>=3.11.0\n",
      "  Downloading protobuf-3.20.3-cp39-cp39-win_amd64.whl (904 kB)\n",
      "     -------------------------------------- 904.2/904.2 kB 2.2 MB/s eta 0:00:00\n",
      "Installing collected packages: protobuf, mysql-connector-python\n",
      "Successfully installed mysql-connector-python-8.0.32 protobuf-3.20.3\n"
     ]
    }
   ],
   "source": [
    "!pip install mysql-connector-python"
   ]
  },
  {
   "cell_type": "code",
   "execution_count": 3,
   "id": "c3608247",
   "metadata": {},
   "outputs": [],
   "source": [
    "from mysql import connector"
   ]
  },
  {
   "cell_type": "markdown",
   "id": "cc172e47",
   "metadata": {},
   "source": [
    "# Connecting to Mysql"
   ]
  },
  {
   "cell_type": "code",
   "execution_count": 97,
   "id": "60b95915",
   "metadata": {},
   "outputs": [
    {
     "name": "stdout",
     "output_type": "stream",
     "text": [
      "Connected to MySQL\n"
     ]
    },
    {
     "data": {
      "text/plain": [
       "(<mysql.connector.connection_cext.CMySQLConnection at 0x22b9814ee50>,\n",
       " <mysql.connector.cursor_cext.CMySQLCursor at 0x22b96ce87f0>)"
      ]
     },
     "execution_count": 97,
     "metadata": {},
     "output_type": "execute_result"
    }
   ],
   "source": [
    "def connectMySQL():\n",
    "    try :\n",
    "        conn = connector.Connect(host=\"localhost\",    # your host, usually localhost\n",
    "                                         user=\"root\",         # your username\n",
    "                                         port=\"3306\"         # port (3306 default)\n",
    "                                         )      \n",
    "        # Creating the cursor\n",
    "        cur = conn.cursor()\n",
    "        print(\"Connected to MySQL\")\n",
    "        return conn,cur\n",
    "    \n",
    "    except connector.Error as e:\n",
    "        print(e)\n",
    "        return e\n",
    "        \n",
    "    \n",
    "\n",
    "connectMySQL()\n"
   ]
  },
  {
   "cell_type": "markdown",
   "id": "23700f04",
   "metadata": {},
   "source": [
    "# Creating a database"
   ]
  },
  {
   "cell_type": "code",
   "execution_count": 16,
   "id": "f8140dfd",
   "metadata": {},
   "outputs": [
    {
     "name": "stdout",
     "output_type": "stream",
     "text": [
      "Connected to MySQL\n",
      "1007 (HY000): Can't create database 'dvdrentaldb'; database exists\n"
     ]
    }
   ],
   "source": [
    "def createDb(nameDB):\n",
    "    conn,cur=connectMySQL()\n",
    "    try :\n",
    "        cur.execute(f\"Create database {nameDB}\")\n",
    "        cur.execute(\"commit\")\n",
    "        # Closing the connection to the default database\n",
    "        conn.close()\n",
    "        \n",
    "    except connector.Error as e :\n",
    "        print(e)\n",
    "\n",
    "createDb(\"DVDrentalDB\")\n",
    "    "
   ]
  },
  {
   "cell_type": "markdown",
   "id": "dc5abda4",
   "metadata": {},
   "source": [
    "# Connecting to a database"
   ]
  },
  {
   "cell_type": "code",
   "execution_count": 99,
   "id": "638a9965",
   "metadata": {},
   "outputs": [
    {
     "name": "stdout",
     "output_type": "stream",
     "text": [
      "Connected to DVDrentalDB\n"
     ]
    }
   ],
   "source": [
    "def connectDB(nameDB):\n",
    "    try :\n",
    "        conn = connector.Connect(host=\"localhost\",    # your host, usually localhost\n",
    "                                 user=\"root\",         # your username\n",
    "                                 port=\"3306\",         # port (3306 default)\n",
    "                                 db=nameDB\n",
    "                                         )      \n",
    "        # Creating the cursor\n",
    "        cur = conn.cursor()\n",
    "        print(f\"Connected to {nameDB}\")\n",
    "        return conn,cur\n",
    "    \n",
    "    except connector.Error as e:\n",
    "        print(e)\n",
    "        return e\n",
    "    \n",
    "conn,cur=connectDB(\"DVDrentalDB\")"
   ]
  },
  {
   "cell_type": "markdown",
   "id": "5928d361",
   "metadata": {},
   "source": [
    "# Creating tables"
   ]
  },
  {
   "cell_type": "code",
   "execution_count": 6,
   "id": "e5981a72",
   "metadata": {},
   "outputs": [],
   "source": [
    "def generateTableCreation():\n",
    "    tableName=input(\"Enter the name of the Table : \")\n",
    "    numberColumns=int(input(f\"How many columns are there in {tableName} ? \"))\n",
    "    columns={}\n",
    "    for i in range(numberColumns):\n",
    "        nameColumn=input(f\"Name of the column N°{i+1} : \")\n",
    "        while nameColumn in columns.keys():\n",
    "            nameColumn=input(f\"Please choose another name for the column N°{i+1} : \")\n",
    "        typeColumn=input(f\"type of the column N°{i+1} : \")\n",
    "        columns[nameColumn]=typeColumn\n",
    "    \n",
    "    primaryKey=input(\"Choose the primary key : \")\n",
    "    while primaryKey not in columns.keys():\n",
    "        primaryKey=input(\"Choose a primary key from the existing columns : \")\n",
    "\n",
    "    \n",
    "    foreignKeys={}\n",
    "    numberFk=int(input(\"how many foreign keys are there ? : \"))\n",
    "    while numberFk > len(columns)-1 and numberFk<0:\n",
    "        numberFk=int(input(\"Please enter a valid number of foreign keys : \"))\n",
    "    \n",
    "    for i in range(numberFk):\n",
    "        foreignKey=input(f\"Enter foreign key N°{i+1} : \")\n",
    "        while (foreignKey not in columns.keys() ) or  (foreignKey in foreignKeys.keys()):\n",
    "            foreignKey=input(f\"Please enter a valid foreign key : \")\n",
    "        \n",
    "        referenceTable=input(f\"Enter the reference Table name for the {foreignKey} : \")\n",
    "        referenceName=input(f\"Enter the reference name of {foreignKey} in the {referenceTable} table : \")\n",
    "        foreignKeys[foreignKey]=[referenceTable,referenceName]\n",
    "    \n",
    "    print(\"\\n----------------------\\n\")\n",
    "        \n",
    "    print('\"\"\"')\n",
    "    \n",
    "    print(f\"    CREATE TABLE {tableName} (\")\n",
    "    print(f\"    {primaryKey} {columns[primaryKey]} PRIMARY KEY \",end=\"\")\n",
    "    for k,v in columns.items():\n",
    "        if k==primaryKey:\n",
    "            continue\n",
    "        print(f\",\\n    {k} {v}\",end=\"\")\n",
    "    \n",
    "    for key in foreignKeys:\n",
    "        print(f\",\\n    FOREIGN KEY ({key}) REFERENCES {foreignKeys[key][0]}({foreignKeys[key][1]})\")\n",
    "    \n",
    "    print(\"    );\")\n",
    "    print('\"\"\"')\n",
    "            "
   ]
  },
  {
   "cell_type": "code",
   "execution_count": 7,
   "id": "1533fbfb",
   "metadata": {},
   "outputs": [
    {
     "name": "stdout",
     "output_type": "stream",
     "text": [
      "Enter the name of the Table : Mytab\n",
      "How many columns are there in Mytab ? 4\n",
      "Name of the column N°1 : name\n",
      "type of the column N°1 : varchar(20)\n",
      "Name of the column N°2 : adress\n",
      "type of the column N°2 : varchar(20)\n",
      "Name of the column N°3 : vill\n",
      "type of the column N°3 : varchar(20)\n",
      "Name of the column N°4 : id\n",
      "type of the column N°4 : varchar(20)\n",
      "Choose the primary key : id\n",
      "how many foreign keys are there ? : 0\n",
      "\n",
      "----------------------\n",
      "\n",
      "\"\"\"\n",
      "    CREATE TABLE Mytab (\n",
      "    id varchar(20) PRIMARY KEY ,\n",
      "    name varchar(20),\n",
      "    adress varchar(20),\n",
      "    vill varchar(20)    );\n",
      "\"\"\"\n"
     ]
    }
   ],
   "source": [
    "generateTableCreation()"
   ]
  },
  {
   "cell_type": "code",
   "execution_count": 12,
   "id": "ef8b0d47",
   "metadata": {},
   "outputs": [],
   "source": [
    "def createTableWithSql(cur,conn,sqlQuery):\n",
    "    try:\n",
    "        cur.execute(sqlQuery)\n",
    "        conn.commit()\n",
    "        \n",
    "        return \"Table created!!\"\n",
    "    except connector.Error as e:\n",
    "        return e"
   ]
  },
  {
   "cell_type": "code",
   "execution_count": 13,
   "id": "14016535",
   "metadata": {},
   "outputs": [],
   "source": [
    "def addForeignKey(conn,curr,targetTable,targetColumn,referenceTable,referenceColumn):\n",
    "    try:\n",
    "        cur.execute(f\"\"\"\n",
    "        ALTER TABLE {targetTable} ADD CONSTRAINT fk_{targetTable}_{targetColumn} \n",
    "        FOREIGN KEY ({targetColumn}) REFERENCES {referenceTable}({referenceColumn})\n",
    "        \"\"\")\n",
    "        conn.commit()\n",
    "        \n",
    "        return \"Foreign key added successfully!!\"\n",
    "    except connector.Error as e:\n",
    "        return e\n",
    "    "
   ]
  },
  {
   "cell_type": "markdown",
   "id": "0c250760",
   "metadata": {},
   "source": [
    "+ **Country table**"
   ]
  },
  {
   "cell_type": "code",
   "execution_count": 34,
   "id": "a4adcf9a",
   "metadata": {},
   "outputs": [
    {
     "data": {
      "text/plain": [
       "'Table created!!'"
      ]
     },
     "execution_count": 34,
     "metadata": {},
     "output_type": "execute_result"
    }
   ],
   "source": [
    "createTableWithSql(cur,conn,\"\"\"\n",
    "    CREATE TABLE country (\n",
    "    country_id varchar(20) PRIMARY KEY ,\n",
    "    country char(20),\n",
    "    last_update datetime    );\n",
    "\"\"\"\n",
    ")"
   ]
  },
  {
   "cell_type": "markdown",
   "id": "c709567e",
   "metadata": {},
   "source": [
    "+ **City table**"
   ]
  },
  {
   "cell_type": "code",
   "execution_count": 10,
   "id": "ba7e0772",
   "metadata": {},
   "outputs": [
    {
     "data": {
      "text/plain": [
       "'Table created!!'"
      ]
     },
     "execution_count": 10,
     "metadata": {},
     "output_type": "execute_result"
    }
   ],
   "source": [
    "createTableWithSql(cur,conn,\"\"\"\n",
    "    CREATE TABLE city (\n",
    "    city_id varchar(20) PRIMARY KEY ,\n",
    "    city char(20),\n",
    "    country_id varchar(20),\n",
    "    last_update datetime,\n",
    "    FOREIGN KEY (country_id) REFERENCES country(country_id)\n",
    "    );\n",
    "\"\"\"\n",
    ")"
   ]
  },
  {
   "cell_type": "markdown",
   "id": "072d3677",
   "metadata": {},
   "source": [
    "+ **Address table**"
   ]
  },
  {
   "cell_type": "code",
   "execution_count": 11,
   "id": "3f755ec2",
   "metadata": {},
   "outputs": [
    {
     "data": {
      "text/plain": [
       "'Table created!!'"
      ]
     },
     "execution_count": 11,
     "metadata": {},
     "output_type": "execute_result"
    }
   ],
   "source": [
    "createTableWithSql(cur,conn,\"\"\"\n",
    "    CREATE TABLE address (\n",
    "    address_id varchar(20) PRIMARY KEY ,\n",
    "    address varchar(100),\n",
    "    address2 varchar(100),\n",
    "    district varchar(40),\n",
    "    city_id varchar(20),\n",
    "    postal_code numeric(6),\n",
    "    phone numeric(10),\n",
    "    last_update datetime,\n",
    "    FOREIGN KEY (city_id) REFERENCES city(city_id)\n",
    "    );\n",
    "\"\"\"\n",
    ")"
   ]
  },
  {
   "cell_type": "markdown",
   "id": "fd993a58",
   "metadata": {},
   "source": [
    "+ **Language table**"
   ]
  },
  {
   "cell_type": "code",
   "execution_count": 49,
   "id": "7b127f3c",
   "metadata": {},
   "outputs": [
    {
     "data": {
      "text/plain": [
       "'Table created!!'"
      ]
     },
     "execution_count": 49,
     "metadata": {},
     "output_type": "execute_result"
    }
   ],
   "source": [
    "createTableWithSql(cur,conn,\"\"\"\n",
    "    CREATE TABLE language (\n",
    "    language_id varchar(5) PRIMARY KEY ,\n",
    "    name char(20),\n",
    "    last_update datetime    );\n",
    "\"\"\"\n",
    ")"
   ]
  },
  {
   "cell_type": "markdown",
   "id": "4d33a14b",
   "metadata": {},
   "source": [
    "+ **Film table**"
   ]
  },
  {
   "cell_type": "code",
   "execution_count": 64,
   "id": "b81229a4",
   "metadata": {},
   "outputs": [
    {
     "data": {
      "text/plain": [
       "'Table created!!'"
      ]
     },
     "execution_count": 64,
     "metadata": {},
     "output_type": "execute_result"
    }
   ],
   "source": [
    "createTableWithSql(cur,conn,\"\"\"\n",
    "    CREATE TABLE film (\n",
    "    film_id varchar(20) PRIMARY KEY ,\n",
    "    title varchar(50),\n",
    "    description char(200),\n",
    "    release_year year,\n",
    "    language_id varchar(5),\n",
    "    rental_duration datetime,\n",
    "    rental_rate numeric(2),\n",
    "    length numeric(5),\n",
    "    replacement_cost numeric(5,2),\n",
    "    rating numeric(2),\n",
    "    last_update datetime,\n",
    "    special_features char(200),\n",
    "    full_text varchar(100),\n",
    "    FOREIGN KEY (language_id) REFERENCES language(language_id)\n",
    "    );\n",
    "\"\"\"\n",
    ")\n",
    "#######full_text\n"
   ]
  },
  {
   "cell_type": "markdown",
   "id": "d3811e76",
   "metadata": {},
   "source": [
    "+ **Category table**"
   ]
  },
  {
   "cell_type": "code",
   "execution_count": 14,
   "id": "987a6211",
   "metadata": {},
   "outputs": [
    {
     "data": {
      "text/plain": [
       "'Table created!!'"
      ]
     },
     "execution_count": 14,
     "metadata": {},
     "output_type": "execute_result"
    }
   ],
   "source": [
    "createTableWithSql(cur,conn,\"\"\"\n",
    "    CREATE TABLE category (\n",
    "    category_id varchar(20) PRIMARY KEY ,\n",
    "    name varchar(20),\n",
    "    last_update datetime    );\n",
    "\"\"\"\n",
    ")"
   ]
  },
  {
   "cell_type": "markdown",
   "id": "6f80dd17",
   "metadata": {},
   "source": [
    "+ **film_category table**"
   ]
  },
  {
   "cell_type": "code",
   "execution_count": 52,
   "id": "271ecf8a",
   "metadata": {},
   "outputs": [
    {
     "data": {
      "text/plain": [
       "'Table created!!'"
      ]
     },
     "execution_count": 52,
     "metadata": {},
     "output_type": "execute_result"
    }
   ],
   "source": [
    "createTableWithSql(cur,conn,\"\"\"\n",
    "    CREATE TABLE film_category (\n",
    "    film_id varchar(20) PRIMARY KEY ,\n",
    "    category_id varchar(20),\n",
    "    last_update datetime,\n",
    "    FOREIGN KEY (film_id) REFERENCES film(film_id),\n",
    "    FOREIGN KEY (category_id) REFERENCES category(category_id)\n",
    "    );\n",
    "\"\"\"\n",
    ")"
   ]
  },
  {
   "cell_type": "markdown",
   "id": "728ce71e",
   "metadata": {},
   "source": [
    "+ **Actor table**"
   ]
  },
  {
   "cell_type": "code",
   "execution_count": 29,
   "id": "fb70aba3",
   "metadata": {},
   "outputs": [
    {
     "data": {
      "text/plain": [
       "'Table created!!'"
      ]
     },
     "execution_count": 29,
     "metadata": {},
     "output_type": "execute_result"
    }
   ],
   "source": [
    "createTableWithSql(cur,conn,\"\"\"\n",
    "    CREATE TABLE actor (\n",
    "    actor_id varchar(20) PRIMARY KEY ,\n",
    "    first_name varchar(20),\n",
    "    last_name varchar(20),\n",
    "    last_update datetime\n",
    "    );\n",
    "\"\"\"\n",
    ")"
   ]
  },
  {
   "cell_type": "markdown",
   "id": "5b3abf2d",
   "metadata": {},
   "source": [
    "+ **Film_actor table**"
   ]
  },
  {
   "cell_type": "code",
   "execution_count": 82,
   "id": "9511e37f",
   "metadata": {},
   "outputs": [
    {
     "data": {
      "text/plain": [
       "'Table created!!'"
      ]
     },
     "execution_count": 82,
     "metadata": {},
     "output_type": "execute_result"
    }
   ],
   "source": [
    "createTableWithSql(cur,conn,\"\"\"\n",
    "    CREATE TABLE film_actor (\n",
    "    id_film_actor varchar(10) Primary Key ,\n",
    "    actor_id varchar(20) , \n",
    "    film_id varchar(20),\n",
    "    last_update datetime,\n",
    "    FOREIGN KEY (film_id) REFERENCES film(film_id),\n",
    "    FOREIGN KEY (actor_id) REFERENCES actor(actor_id)\n",
    "    );\n",
    "\"\"\"\n",
    ")\n",
    "### film_actor id"
   ]
  },
  {
   "cell_type": "markdown",
   "id": "b27afc65",
   "metadata": {},
   "source": [
    "+ **Store table**"
   ]
  },
  {
   "cell_type": "code",
   "execution_count": 91,
   "id": "d1765248",
   "metadata": {},
   "outputs": [
    {
     "data": {
      "text/plain": [
       "'Table created!!'"
      ]
     },
     "execution_count": 91,
     "metadata": {},
     "output_type": "execute_result"
    }
   ],
   "source": [
    "createTableWithSql(cur,conn,\"\"\"\n",
    "    CREATE TABLE store (\n",
    "    store_id varchar(20) PRIMARY KEY ,\n",
    "    manager_staff_id varchar(20) ,\n",
    "    address_id varchar(20),\n",
    "    last_update datetime,\n",
    "    FOREIGN KEY (address_id) REFERENCES address(address_id)\n",
    "    );\n",
    "\"\"\"\n",
    ")"
   ]
  },
  {
   "cell_type": "markdown",
   "id": "67439a67",
   "metadata": {},
   "source": [
    "+ **Staff table**"
   ]
  },
  {
   "cell_type": "code",
   "execution_count": 100,
   "id": "09503c32",
   "metadata": {},
   "outputs": [
    {
     "data": {
      "text/plain": [
       "'Table created!!'"
      ]
     },
     "execution_count": 100,
     "metadata": {},
     "output_type": "execute_result"
    }
   ],
   "source": [
    "createTableWithSql(cur,conn,\"\"\"\n",
    "    CREATE TABLE staff (\n",
    "    staff_id varchar(20) PRIMARY KEY ,\n",
    "    first_name varchar(20),\n",
    "    last_name varchar(20),\n",
    "    address_id varchar(20),\n",
    "    email varchar(20),\n",
    "    store_id varchar(20),\n",
    "    active BOOLEAN,\n",
    "    username varchar(20),\n",
    "    password varchar(255),\n",
    "    last_update datetime,\n",
    "    picture varchar(20),\n",
    "    FOREIGN KEY (address_id) REFERENCES address(address_id)\n",
    "    );\n",
    "\"\"\"\n",
    ")"
   ]
  },
  {
   "cell_type": "markdown",
   "id": "a56a87d4",
   "metadata": {},
   "source": [
    "+ **Adding FOREIGN KEYS for Staff and Store tables**"
   ]
  },
  {
   "cell_type": "code",
   "execution_count": 45,
   "id": "4de3f985",
   "metadata": {},
   "outputs": [
    {
     "data": {
      "text/plain": [
       "'Foreign key added successfully!!'"
      ]
     },
     "execution_count": 45,
     "metadata": {},
     "output_type": "execute_result"
    }
   ],
   "source": [
    "addForeignKey(conn,cur,\"store\",\"manager_staff_id\",\"staff\",\"staff_id\")"
   ]
  },
  {
   "cell_type": "code",
   "execution_count": 49,
   "id": "104d0c7a",
   "metadata": {},
   "outputs": [
    {
     "data": {
      "text/plain": [
       "'Foreign key added successfully!!'"
      ]
     },
     "execution_count": 49,
     "metadata": {},
     "output_type": "execute_result"
    }
   ],
   "source": [
    "addForeignKey(conn,cur,\"staff\",\"store_id\",\"store\",\"store_id\")"
   ]
  },
  {
   "cell_type": "markdown",
   "id": "7bfa5cbf",
   "metadata": {},
   "source": [
    "+ **Customer table**"
   ]
  },
  {
   "cell_type": "code",
   "execution_count": 19,
   "id": "179a5292",
   "metadata": {},
   "outputs": [
    {
     "data": {
      "text/plain": [
       "'Table created!!'"
      ]
     },
     "execution_count": 19,
     "metadata": {},
     "output_type": "execute_result"
    }
   ],
   "source": [
    "createTableWithSql(cur,conn,\"\"\"\n",
    "    CREATE TABLE customer (\n",
    "    customer_id varchar(20) PRIMARY KEY ,\n",
    "    store_id varchar(20),\n",
    "    first_name varchar(20),\n",
    "    last_name varchar(20),\n",
    "    email varchar(20),\n",
    "    address_id varchar(20),\n",
    "    activebool BOOLEAN,\n",
    "    create_date datetime,\n",
    "    last_update datetime,\n",
    "    active varchar(20),\n",
    "    \n",
    "    FOREIGN KEY (store_id) REFERENCES store(store_id)\n",
    "    );\n",
    "\"\"\"\n",
    ")"
   ]
  },
  {
   "cell_type": "markdown",
   "id": "9175fa1b",
   "metadata": {},
   "source": [
    "+ **Inventory table**"
   ]
  },
  {
   "cell_type": "code",
   "execution_count": 20,
   "id": "9e18cda0",
   "metadata": {},
   "outputs": [
    {
     "data": {
      "text/plain": [
       "'Table created!!'"
      ]
     },
     "execution_count": 20,
     "metadata": {},
     "output_type": "execute_result"
    }
   ],
   "source": [
    "createTableWithSql(cur,conn,\"\"\"\n",
    "    CREATE TABLE inventory (\n",
    "    inventory_id varchar(20) PRIMARY KEY ,\n",
    "    film_id varchar(20),\n",
    "    store_id varchar(20),\n",
    "    last_update datetime,\n",
    "    \n",
    "    FOREIGN KEY (film_id) REFERENCES film(film_id),\n",
    "    FOREIGN KEY (store_id) REFERENCES store(store_id)\n",
    "    );\n",
    "\"\"\"\n",
    ")"
   ]
  },
  {
   "cell_type": "markdown",
   "id": "a50bac25",
   "metadata": {},
   "source": [
    "+ **Rental table**"
   ]
  },
  {
   "cell_type": "code",
   "execution_count": 21,
   "id": "9d50bbcb",
   "metadata": {},
   "outputs": [
    {
     "data": {
      "text/plain": [
       "'Table created!!'"
      ]
     },
     "execution_count": 21,
     "metadata": {},
     "output_type": "execute_result"
    }
   ],
   "source": [
    "createTableWithSql(cur,conn,\"\"\"\n",
    "    CREATE TABLE rental (\n",
    "    rental_id varchar(20) PRIMARY KEY ,\n",
    "    rental_date datetime,\n",
    "    inventory_id varchar(20),\n",
    "    customer_id varchar(20),\n",
    "    return_date datetime,\n",
    "    staff_id varchar(20),\n",
    "    last_update datetime,\n",
    "    \n",
    "    FOREIGN KEY (inventory_id) REFERENCES inventory(inventory_id),\n",
    "    FOREIGN KEY (customer_id) REFERENCES customer(customer_id),\n",
    "    FOREIGN KEY (staff_id) REFERENCES staff(staff_id)\n",
    "    );\n",
    "\"\"\"\n",
    ")"
   ]
  },
  {
   "cell_type": "markdown",
   "id": "2262a5ad",
   "metadata": {},
   "source": [
    "+ **Payment table**"
   ]
  },
  {
   "cell_type": "code",
   "execution_count": 22,
   "id": "8914dc2a",
   "metadata": {},
   "outputs": [
    {
     "data": {
      "text/plain": [
       "'Table created!!'"
      ]
     },
     "execution_count": 22,
     "metadata": {},
     "output_type": "execute_result"
    }
   ],
   "source": [
    "createTableWithSql(cur,conn,\"\"\"\n",
    "    CREATE TABLE payment (\n",
    "    payment_id varchar(20) PRIMARY KEY ,\n",
    "    customer_id varchar(20),\n",
    "    staff_id varchar(20),\n",
    "    rental_id varchar(20),\n",
    "    amount varchar(20),\n",
    "    payment_date datetime,\n",
    "    \n",
    "    FOREIGN KEY (customer_id) REFERENCES customer(customer_id),\n",
    "    FOREIGN KEY (staff_id) REFERENCES staff(staff_id),\n",
    "    FOREIGN KEY (rental_id) REFERENCES rental(rental_id)\n",
    "    );\n",
    "\"\"\"\n",
    ")"
   ]
  },
  {
   "cell_type": "markdown",
   "id": "4b09c616",
   "metadata": {},
   "source": [
    "# Inserting data"
   ]
  },
  {
   "cell_type": "code",
   "execution_count": 5,
   "id": "d85d72bd",
   "metadata": {},
   "outputs": [],
   "source": [
    "#Importing pandas\n",
    "import pandas as pd"
   ]
  },
  {
   "cell_type": "code",
   "execution_count": 39,
   "id": "2b5f1af5",
   "metadata": {},
   "outputs": [],
   "source": [
    "def csvToDB(conn,cur,csv,table):\n",
    "    data = pd.read_csv (csv)  \n",
    "    data=data.astype(object).where(pd.notnull(data), None)\n",
    "    df = pd.DataFrame(data)\n",
    "    \n",
    "    insertQuery=f'''INSERT INTO {table} ({\",\".join(df.columns)}) VALUES ({\",\".join([\"%s\"]*len(df.columns))})'''\n",
    "    for i, row in df.iterrows():\n",
    "        try :\n",
    "            cur.execute(insertQuery, list(row))\n",
    "        except connector.Error as e:\n",
    "            return e\n",
    "    # Saving\n",
    "    conn.commit()\n",
    "    print(f\"{df.count()} row inserted successfully in {table}\")\n"
   ]
  },
  {
   "cell_type": "markdown",
   "id": "e3f78d90",
   "metadata": {},
   "source": [
    "+ **Inserting data into the Actor table**"
   ]
  },
  {
   "cell_type": "code",
   "execution_count": 30,
   "id": "61e1af0e",
   "metadata": {},
   "outputs": [
    {
     "name": "stdout",
     "output_type": "stream",
     "text": [
      "actor_id       200\n",
      "first_name     200\n",
      "last_name      200\n",
      "last_update    200\n",
      "dtype: int64 row inserted successfully in actor\n"
     ]
    }
   ],
   "source": [
    "csvToDB(conn,cur,r'..\\data\\actor-1677886980800.csv',\"actor\")"
   ]
  },
  {
   "cell_type": "markdown",
   "id": "c355b52d",
   "metadata": {},
   "source": [
    "+ **Inserting data into the Country table**"
   ]
  },
  {
   "cell_type": "code",
   "execution_count": 35,
   "id": "1dfff357",
   "metadata": {},
   "outputs": [
    {
     "name": "stdout",
     "output_type": "stream",
     "text": [
      "country_id     109\n",
      "country        109\n",
      "last_update    109\n",
      "dtype: int64 row inserted successfully in country\n"
     ]
    }
   ],
   "source": [
    "csvToDB(conn,cur,r'..\\data\\country-1677887083257.csv',\"country\")"
   ]
  },
  {
   "cell_type": "markdown",
   "id": "efed45a6",
   "metadata": {},
   "source": [
    "+ **Inserting data into the City table**"
   ]
  },
  {
   "cell_type": "code",
   "execution_count": 36,
   "id": "5c12990e",
   "metadata": {},
   "outputs": [
    {
     "name": "stdout",
     "output_type": "stream",
     "text": [
      "city_id        600\n",
      "city           600\n",
      "country_id     600\n",
      "last_update    600\n",
      "dtype: int64 row inserted successfully in city\n"
     ]
    }
   ],
   "source": [
    "csvToDB(conn,cur,r'..\\data\\city-1677887064709.csv',\"city\")"
   ]
  },
  {
   "cell_type": "markdown",
   "id": "0b6ac0a2",
   "metadata": {},
   "source": [
    "+ **Inserting data into the Address table**"
   ]
  },
  {
   "cell_type": "code",
   "execution_count": 40,
   "id": "b93aed5d",
   "metadata": {
    "scrolled": true
   },
   "outputs": [
    {
     "name": "stdout",
     "output_type": "stream",
     "text": [
      "address_id     603\n",
      "address        603\n",
      "address2         0\n",
      "district       600\n",
      "city_id        603\n",
      "postal_code    599\n",
      "phone          601\n",
      "last_update    603\n",
      "dtype: int64 row inserted successfully in address\n"
     ]
    }
   ],
   "source": [
    "csvToDB(conn,cur,r'..\\data\\address-1677887015727.csv',\"address\")"
   ]
  },
  {
   "cell_type": "markdown",
   "id": "461b125f",
   "metadata": {},
   "source": [
    "+ **Inserting data into the Category table**"
   ]
  },
  {
   "cell_type": "code",
   "execution_count": 41,
   "id": "d0e7a534",
   "metadata": {},
   "outputs": [
    {
     "name": "stdout",
     "output_type": "stream",
     "text": [
      "category_id    16\n",
      "name           16\n",
      "last_update    16\n",
      "dtype: int64 row inserted successfully in category\n"
     ]
    }
   ],
   "source": [
    "csvToDB(conn,cur,r'..\\data\\category-1677887044868.csv',\"category\")"
   ]
  },
  {
   "cell_type": "markdown",
   "id": "f1a18189",
   "metadata": {},
   "source": [
    "+ **Inserting data into the language table**"
   ]
  },
  {
   "cell_type": "code",
   "execution_count": 53,
   "id": "2666246c",
   "metadata": {},
   "outputs": [
    {
     "name": "stdout",
     "output_type": "stream",
     "text": [
      "language_id    6\n",
      "name           6\n",
      "last_update    6\n",
      "dtype: int64 row inserted successfully in language\n"
     ]
    }
   ],
   "source": [
    "csvToDB(conn,cur,r'..\\data\\language-1677887305001.csv',\"language\")"
   ]
  },
  {
   "cell_type": "markdown",
   "id": "ca7ffbed",
   "metadata": {},
   "source": [
    "+ **Inserting data into the Film table**"
   ]
  },
  {
   "cell_type": "code",
   "execution_count": 65,
   "id": "1e26b0da",
   "metadata": {},
   "outputs": [
    {
     "name": "stdout",
     "output_type": "stream",
     "text": [
      "film_id             1000\n",
      "title               1000\n",
      "description         1000\n",
      "release_year        1000\n",
      "language_id         1000\n",
      "rental_duration     1000\n",
      "rental_rate         1000\n",
      "length              1000\n",
      "replacement_cost    1000\n",
      "rating              1000\n",
      "last_update         1000\n",
      "special_features    1000\n",
      "full_text           1000\n",
      "dtype: int64 row inserted successfully in film\n"
     ]
    }
   ],
   "source": [
    "csvToDB(conn,cur,r'..\\data\\film-1677887139521.csv',\"film\")"
   ]
  },
  {
   "cell_type": "markdown",
   "id": "0d7f4e86",
   "metadata": {},
   "source": [
    "+ **Inserting data into the Film_category table**"
   ]
  },
  {
   "cell_type": "code",
   "execution_count": 67,
   "id": "cd1a0027",
   "metadata": {},
   "outputs": [
    {
     "name": "stdout",
     "output_type": "stream",
     "text": [
      "film_id        1000\n",
      "category_id    1000\n",
      "last_update    1000\n",
      "dtype: int64 row inserted successfully in film_category\n"
     ]
    }
   ],
   "source": [
    "csvToDB(conn,cur,r'..\\data\\film_category-1677887171057.csv',\"film_category\")"
   ]
  },
  {
   "cell_type": "markdown",
   "id": "ff9440bc",
   "metadata": {},
   "source": [
    "+ **Inserting data into the Film_actor table**"
   ]
  },
  {
   "cell_type": "code",
   "execution_count": 87,
   "id": "03bb8567",
   "metadata": {},
   "outputs": [
    {
     "name": "stdout",
     "output_type": "stream",
     "text": [
      "id_film_actor    5462\n",
      "actor_id         5462\n",
      "film_id          5462\n",
      "last_update      5462\n",
      "dtype: int64 row inserted successfully in film_actor\n"
     ]
    }
   ],
   "source": [
    "csvToDB(conn,cur,r'..\\data\\film_actor-1677887154866.csv',\"film_actor\")"
   ]
  },
  {
   "cell_type": "markdown",
   "id": "0d3d7319",
   "metadata": {},
   "source": [
    "+ **Inserting data into the Store table**"
   ]
  },
  {
   "cell_type": "code",
   "execution_count": 92,
   "id": "16612dff",
   "metadata": {
    "scrolled": true
   },
   "outputs": [
    {
     "name": "stdout",
     "output_type": "stream",
     "text": [
      "store_id            2\n",
      "manager_staff_id    2\n",
      "address_id          2\n",
      "last_update         2\n",
      "dtype: int64 row inserted successfully in store\n"
     ]
    }
   ],
   "source": [
    "csvToDB(conn,cur,r'..\\data\\store-1677887380221.csv',\"store\")"
   ]
  },
  {
   "cell_type": "markdown",
   "id": "d0faff0a",
   "metadata": {},
   "source": [
    "+ **Inserting data into the Staff table**"
   ]
  },
  {
   "cell_type": "code",
   "execution_count": 101,
   "id": "80142d2e",
   "metadata": {},
   "outputs": [
    {
     "name": "stdout",
     "output_type": "stream",
     "text": [
      "staff_id       2\n",
      "first_name     2\n",
      "last_name      2\n",
      "address_id     2\n",
      "email          2\n",
      "store_id       2\n",
      "active         2\n",
      "username       2\n",
      "password       2\n",
      "last_update    2\n",
      "picture        1\n",
      "dtype: int64 row inserted successfully in staff\n"
     ]
    }
   ],
   "source": [
    "csvToDB(conn,cur,r'..\\data\\staff-1677887360024.csv',\"staff\")"
   ]
  },
  {
   "cell_type": "markdown",
   "id": "c584e49d",
   "metadata": {},
   "source": [
    "+ **Inserting data into the Customer table**"
   ]
  },
  {
   "cell_type": "code",
   "execution_count": 102,
   "id": "c3bc40a2",
   "metadata": {},
   "outputs": [
    {
     "name": "stdout",
     "output_type": "stream",
     "text": [
      "customer_id    599\n",
      "store_id       599\n",
      "first_name     599\n",
      "last_name      599\n",
      "email          599\n",
      "address_id     599\n",
      "activebool     599\n",
      "create_date    599\n",
      "last_update    599\n",
      "active         599\n",
      "dtype: int64 row inserted successfully in customer\n"
     ]
    }
   ],
   "source": [
    "csvToDB(conn,cur,r'..\\data\\customer-1677887114572.csv',\"customer\")"
   ]
  },
  {
   "cell_type": "markdown",
   "id": "883eac2a",
   "metadata": {},
   "source": [
    "+ **Inserting data into the Inventory table**"
   ]
  },
  {
   "cell_type": "code",
   "execution_count": 103,
   "id": "ee34dda1",
   "metadata": {},
   "outputs": [
    {
     "name": "stdout",
     "output_type": "stream",
     "text": [
      "inventory_id    4581\n",
      "film_id         4581\n",
      "store_id        4581\n",
      "last_update     4581\n",
      "dtype: int64 row inserted successfully in inventory\n"
     ]
    }
   ],
   "source": [
    "csvToDB(conn,cur,r'..\\data\\inventory-1677887199648.csv',\"inventory\")"
   ]
  },
  {
   "cell_type": "markdown",
   "id": "1f061368",
   "metadata": {},
   "source": [
    "+ **Inserting data into the Rental table**"
   ]
  },
  {
   "cell_type": "code",
   "execution_count": 104,
   "id": "c5d2f8a1",
   "metadata": {},
   "outputs": [
    {
     "name": "stdout",
     "output_type": "stream",
     "text": [
      "rental_id       16044\n",
      "rental_date     16044\n",
      "inventory_id    16044\n",
      "customer_id     16044\n",
      "return_date     15861\n",
      "staff_id        16044\n",
      "last_update     16044\n",
      "dtype: int64 row inserted successfully in rental\n"
     ]
    }
   ],
   "source": [
    "csvToDB(conn,cur,r'..\\data\\rental-1677887346717.csv',\"rental\")"
   ]
  },
  {
   "cell_type": "markdown",
   "id": "66af66dc",
   "metadata": {},
   "source": [
    "+ **Inserting data into the Payment table**"
   ]
  },
  {
   "cell_type": "code",
   "execution_count": 105,
   "id": "995b0b52",
   "metadata": {},
   "outputs": [
    {
     "name": "stdout",
     "output_type": "stream",
     "text": [
      "payment_id      14596\n",
      "customer_id     14596\n",
      "staff_id        14596\n",
      "rental_id       14596\n",
      "amount          14596\n",
      "payment_date    14596\n",
      "dtype: int64 row inserted successfully in payment\n"
     ]
    }
   ],
   "source": [
    "csvToDB(conn,cur,r'..\\data\\payment-1677887325957.csv',\"payment\")"
   ]
  },
  {
   "cell_type": "code",
   "execution_count": null,
   "id": "07363332",
   "metadata": {},
   "outputs": [],
   "source": []
  },
  {
   "cell_type": "code",
   "execution_count": null,
   "id": "a73ccfd6",
   "metadata": {},
   "outputs": [],
   "source": []
  }
 ],
 "metadata": {
  "kernelspec": {
   "display_name": "Python 3 (ipykernel)",
   "language": "python",
   "name": "python3"
  },
  "language_info": {
   "codemirror_mode": {
    "name": "ipython",
    "version": 3
   },
   "file_extension": ".py",
   "mimetype": "text/x-python",
   "name": "python",
   "nbconvert_exporter": "python",
   "pygments_lexer": "ipython3",
   "version": "3.9.13"
  }
 },
 "nbformat": 4,
 "nbformat_minor": 5
}
