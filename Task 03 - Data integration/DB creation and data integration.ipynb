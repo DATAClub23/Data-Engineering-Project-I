{
 "cells": [
  {
   "cell_type": "markdown",
   "id": "66ed8496",
   "metadata": {},
   "source": [
    "# Required packages"
   ]
  },
  {
   "cell_type": "code",
   "execution_count": 1,
   "id": "c99cc2df",
   "metadata": {},
   "outputs": [
    {
     "name": "stdout",
     "output_type": "stream",
     "text": [
      "Defaulting to user installation because normal site-packages is not writeable\n",
      "Collecting mysql-connector-python\n",
      "  Downloading mysql_connector_python-8.0.32-cp39-cp39-win_amd64.whl (7.9 MB)\n",
      "     ---------------------------------------- 7.9/7.9 MB 230.8 kB/s eta 0:00:00\n",
      "Collecting protobuf<=3.20.3,>=3.11.0\n",
      "  Downloading protobuf-3.20.3-cp39-cp39-win_amd64.whl (904 kB)\n",
      "     ------------------------------------ 904.2/904.2 kB 291.9 kB/s eta 0:00:00\n",
      "Installing collected packages: protobuf, mysql-connector-python\n",
      "Successfully installed mysql-connector-python-8.0.32 protobuf-3.20.3\n"
     ]
    }
   ],
   "source": [
    "!pip install mysql-connector-python"
   ]
  },
  {
   "cell_type": "code",
   "execution_count": 8,
   "id": "c3608247",
   "metadata": {},
   "outputs": [],
   "source": [
    "from mysql import connector"
   ]
  },
  {
   "cell_type": "markdown",
   "id": "cc172e47",
   "metadata": {},
   "source": [
    "# Connecting to Mysql"
   ]
  },
  {
   "cell_type": "code",
   "id": "60b95915",
   "metadata": {},
   "outputs": [
    {
     "name": "stdout",
     "output_type": "stream",
     "text": [
      "Connected to MySQL\n"
     ]
    },
    {
     "data": {
      "text/plain": [
     "metadata": {},
     "output_type": "execute_result"
    }
   ],
   "source": [
    "def connectMySQL():\n",
    "    try :\n",
    "        conn = connector.Connect(host=\"localhost\",    # your host, usually localhost\n",
    "                                         user=\"root\",         # your username\n",
    "                                         port=\"3306\"         # port (3306 default)\n",
    "                                         )      \n",
    "        # Creating the cursor\n",
    "        cur = conn.cursor()\n",
    "        print(\"Connected to MySQL\")\n",
    "        return conn,cur\n",
    "    \n",
    "    except connector.Error as e:\n",
    "        print(e)\n",
    "        return e\n",
    "        \n",
    "    \n",
    "\n",
    "connectMySQL()\n"
   ]
  },
  {
   "cell_type": "markdown",
   "id": "23700f04",
   "metadata": {},
   "source": [
    "# Creating a database"
   ]
  },
  {
   "cell_type": "code",
   "id": "f8140dfd",
   "metadata": {},
   "outputs": [
    {
     "name": "stdout",
     "output_type": "stream",
     "text": [
     ]
    }
   ],
   "source": [
    "def createDb(nameDB):\n",
    "    conn,cur=connectMySQL()\n",
    "    try :\n",
    "        cur.execute(f\"Create database {nameDB}\")\n",
    "        cur.execute(\"commit\")\n",
    "        # Closing the connection to the default database\n",
    "        conn.close()\n",
    "        \n",
    "    except connector.Error as e :\n",
    "        print(e)\n",
    "\n",
    "createDb(\"DVDrentalDB\")\n",
    "    "
   ]
  },
  {
   "cell_type": "markdown",
   "id": "dc5abda4",
   "metadata": {},
   "source": [
    "# Connecting to a database"
   ]
  },
  {
   "cell_type": "code",
   "id": "638a9965",
   "metadata": {},
   "outputs": [
    {
     "name": "stdout",
     "output_type": "stream",
     "text": [
      "Connected to DVDrentalDB\n"
     ]
    }
   ],
   "source": [
    "def connectDB(nameDB):\n",
    "    try :\n",
    "        conn = connector.Connect(host=\"localhost\",    # your host, usually localhost\n",
    "                                 user=\"root\",         # your username\n",
    "                                 port=\"3306\",         # port (3306 default)\n",
    "                                 db=nameDB\n",
    "                                         )      \n",
    "        # Creating the cursor\n",
    "        cur = conn.cursor()\n",
    "        print(f\"Connected to {nameDB}\")\n",
    "        return conn,cur\n",
    "    \n",
    "    except connector.Error as e:\n",
    "        print(e)\n",
    "        return e\n",
    "    \n",
    "conn,cur=connectDB(\"DVDrentalDB\")"
   ]
  },
  {
   "cell_type": "markdown",
   "id": "5928d361",
   "metadata": {},
   "source": [
    "# Creating tables"
   ]
  },
  {
   "cell_type": "code",
   "id": "e5981a72",
   "metadata": {},
   "outputs": [],
   "source": [
    "def generateTableCreation():\n",
    "    tableName=input(\"Enter the name of the Table : \")\n",
    "    numberColumns=int(input(f\"How many columns are there in {tableName} ? \"))\n",
    "    columns={}\n",
    "    for i in range(numberColumns):\n",
    "        nameColumn=input(f\"Name of the column N°{i+1} : \")\n",
    "        while nameColumn in columns.keys():\n",
    "            nameColumn=input(f\"Please choose another name for the column N°{i+1} : \")\n",
    "        typeColumn=input(f\"type of the column N°{i+1} : \")\n",
    "        columns[nameColumn]=typeColumn\n",
    "    \n",
    "    primaryKey=input(\"Choose the primary key : \")\n",
    "    while primaryKey not in columns.keys():\n",
    "        primaryKey=input(\"Choose a primary key from the existing columns : \")\n",
    "\n",
    "    \n",
    "    foreignKeys={}\n",
    "    numberFk=int(input(\"how many foreign keys are there ? : \"))\n",
    "    while numberFk > len(columns)-1 and numberFk<0:\n",
    "        numberFk=int(input(\"Please enter a valid number of foreign keys : \"))\n",
    "    \n",
    "    for i in range(numberFk):\n",
    "        foreignKey=input(f\"Enter foreign key N°{i+1} : \")\n",
    "        while (foreignKey not in columns.keys() ) or  (foreignKey in foreignKeys.keys()):\n",
    "            foreignKey=input(f\"Please enter a valid foreign key : \")\n",
    "        \n",
    "        referenceTable=input(f\"Enter the reference Table name for the {foreignKey} : \")\n",
    "        referenceName=input(f\"Enter the reference name of {foreignKey} in the {referenceTable} table : \")\n",
    "        foreignKeys[foreignKey]=[referenceTable,referenceName]\n",
    "    \n",
    "    print(\"\\n----------------------\\n\")\n",
    "        \n",
    "    print('\"\"\"')\n",
    "    \n",
    "    print(f\"    CREATE TABLE {tableName} (\")\n",
    "    print(f\"    {primaryKey} {columns[primaryKey]} PRIMARY KEY \",end=\"\")\n",
    "    for k,v in columns.items():\n",
    "        if k==primaryKey:\n",
    "            continue\n",
    "        print(f\",\\n    {k} {v}\",end=\"\")\n",
    "    \n",
    "    for key in foreignKeys:\n",
    "        print(f\",\\n    FOREIGN KEY ({key}) REFERENCES {foreignKeys[key][0]}({foreignKeys[key][1]})\")\n",
    "    \n",
    "    print(\"    );\")\n",
    "    print('\"\"\"')\n",
    "            "
   ]
  },
  {
   "cell_type": "code",
   "execution_count": 48,
   "id": "1533fbfb",
   "metadata": {},
   "outputs": [
    {
     "name": "stdout",
     "output_type": "stream",
     "text": [
      "Enter the name of the Table : film_category\n",
      "How many columns are there in film_category ? 3\n",
      "Name of the column N°1 : film_id\n",
      "type of the column N°1 : varchar(20)\n",
      "Name of the column N°2 : category_id\n",
      "type of the column N°2 : varchar(20)\n",
      "Name of the column N°3 : last_update\n",
      "type of the column N°3 : datetime\n",
      "Choose the primary key : film_id\n",
      "how many foreign keys are there ? : 2\n",
      "Enter foreign key N°1 : film_id\n",
      "Enter the reference Table name for the film_id : film\n",
      "Enter the reference name of film_id in the film table : film_id\n",
      "Enter foreign key N°2 : category_id\n",
      "Enter the reference Table name for the category_id : category\n",
      "Enter the reference name of category_id in the category table : category_id\n",
      "\n",
      "----------------------\n",
      "\n",
      "\"\"\"\n",
      "    CREATE TABLE film_category (\n",
      "    film_id varchar(20) PRIMARY KEY ,\n",
      "    category_id varchar(20),\n",
      "    last_update datetime,\n",
      "    FOREIGN KEY (film_id) REFERENCES film(film_id)\n",
      ",\n",
      "    FOREIGN KEY (category_id) REFERENCES category(category_id)\n",
      "    );\n",
      "\"\"\"\n"
     ]
    }
   ],
   "source": [
    "generateTableCreation()"
   ]
  },
  {
   "cell_type": "code",
   "id": "ef8b0d47",
   "metadata": {},
   "outputs": [],
   "source": [
    "def createTableWithSql(cur,conn,sqlQuery):\n",
    "    try:\n",
    "        cur.execute(sqlQuery)\n",
    "        conn.commit()\n",
    "        \n",
    "        return \"Table created!!\"\n",
    "    except connector.Error as e:\n",
    "        return e\n",
    "\n"
   ]
  },
  {
   "cell_type": "markdown",
   "id": "0c250760",
   "metadata": {},
   "source": [
    "+ **Country table**"
   ]
  },
  {
   "cell_type": "code",
   "id": "a4adcf9a",
   "metadata": {},
   "outputs": [
    {
     "data": {
      "text/plain": [
       "'Table created!!'"
      ]
     },
     "metadata": {},
     "output_type": "execute_result"
    }
   ],
   "source": [
    "createTableWithSql(cur,conn,\"\"\"\n",
    "    CREATE TABLE country (\n",
    "    country_id varchar(20) PRIMARY KEY ,\n",
    "    country char(20),\n",
    "    last_update datetime    );\n",
    "\"\"\"\n",
    ")"
   ]
  },
  {
   "cell_type": "markdown",
   "id": "c709567e",
   "metadata": {},
   "source": [
    "+ **City table**"
   ]
  },
  {
   "cell_type": "code",
   "id": "ba7e0772",
   "metadata": {},
   "outputs": [
    {
     "data": {
      "text/plain": [
       "'Table created!!'"
      ]
     },
     "metadata": {},
     "output_type": "execute_result"
    }
   ],
   "source": [
    "createTableWithSql(cur,conn,\"\"\"\n",
    "    CREATE TABLE city (\n",
    "    city_id varchar(20) PRIMARY KEY ,\n",
    "    city char(20),\n",
    "    country_id varchar(20),\n",
    "    last_update datetime,\n",
    "    FOREIGN KEY (country_id) REFERENCES country(country_id)\n",
    "    );\n",
    "\"\"\"\n",
    ")"
   ]
  },
  {
   "cell_type": "markdown",
   "id": "072d3677",
   "metadata": {},
   "source": [
    "+ **Address table**"
   ]
  },
  {
   "cell_type": "code",
   "id": "3f755ec2",
   "metadata": {},
   "outputs": [
    {
     "data": {
      "text/plain": [
       "'Table created!!'"
      ]
     },
     "metadata": {},
     "output_type": "execute_result"
    }
   ],
   "source": [
    "createTableWithSql(cur,conn,\"\"\"\n",
    "    CREATE TABLE address (\n",
    "    address_id varchar(20) PRIMARY KEY ,\n",
    "    address varchar(100),\n",
    "    address2 varchar(100),\n",
    "    district varchar(40),\n",
    "    city_id varchar(20),\n",
    "    postal_code numeric(6),\n",
    "    phone numeric(10),\n",
    "    last_update datetime,\n",
    "    FOREIGN KEY (city_id) REFERENCES city(city_id)\n",
    "    );\n",
    "\"\"\"\n",
    ")"
   ]
  },
  {
   "cell_type": "markdown",
   "id": "fd993a58",
   "metadata": {},
   "source": [
    "+ **Language table**"
   ]
  },
  {
   "cell_type": "code",
   "id": "7b127f3c",
   "metadata": {},
   "outputs": [
    {
     "data": {
      "text/plain": [
       "'Table created!!'"
      ]
     },
     "metadata": {},
     "output_type": "execute_result"
    }
   ],
   "source": [
    "createTableWithSql(cur,conn,\"\"\"\n",
    "    CREATE TABLE language (\n",
    "    language_id varchar(5) PRIMARY KEY ,\n",
    "    name char(20),\n",
    "    last_update datetime    );\n",
    "\"\"\"\n",
    ")"
   ]
  },
  {
   "cell_type": "markdown",
   "id": "4d33a14b",
   "metadata": {},
   "source": [
    "+ **Film table**"
   ]
  },
  {
   "cell_type": "code",
   "id": "b81229a4",
   "metadata": {},
   "outputs": [
    {
     "data": {
      "text/plain": [
       "'Table created!!'"
      ]
     },
     "metadata": {},
     "output_type": "execute_result"
    }
   ],
   "source": [
    "createTableWithSql(cur,conn,\"\"\"\n",
    "    CREATE TABLE film (\n",
    "    film_id varchar(20) PRIMARY KEY ,\n",
    "    title varchar(50),\n",
    "    description char(200),\n",
    "    release_year year,\n",
    "    language_id varchar(5),\n",
    "    rental_duration datetime,\n",
    "    rental_rate numeric(2),\n",
    "    length numeric(5),\n",
    "    replacement_cost numeric(5,2),\n",
    "    rating numeric(2),\n",
    "    last_update datetime,\n",
    "    special_features char(200),\n",
    "    full_text varchar(100),\n",
    "    FOREIGN KEY (language_id) REFERENCES language(language_id)\n",
    "    );\n",
    "\"\"\"\n",
    ")"
   ]
  },
  {
   "cell_type": "markdown",
   "id": "d3811e76",
   "metadata": {},
   "source": [
    "+ **Category table**"
   ]
  },
  {
   "cell_type": "code",
   "id": "987a6211",
   "metadata": {},
   "outputs": [
    {
     "data": {
      "text/plain": [
       "'Table created!!'"
      ]
     },
     "metadata": {},
     "output_type": "execute_result"
    }
   ],
   "source": [
    "createTableWithSql(cur,conn,\"\"\"\n",
    "    CREATE TABLE category (\n",
    "    category_id varchar(20) PRIMARY KEY ,\n",
    "    name varchar(20),\n",
    "    last_update datetime    );\n",
    "\"\"\"\n",
    ")"
   ]
  },
  {
   "cell_type": "markdown",
   "id": "6f80dd17",
   "metadata": {},
   "source": [
   ]
  },
  {
   "cell_type": "code",
   "id": "271ecf8a",
   "metadata": {},
   "outputs": [
    {
     "data": {
      "text/plain": [
       "'Table created!!'"
      ]
     },
     "metadata": {},
     "output_type": "execute_result"
    }
   ],
   "source": [
    "createTableWithSql(cur,conn,\"\"\"\n",
    "    CREATE TABLE film_category (\n",
    "    film_id varchar(20) PRIMARY KEY ,\n",
    "    category_id varchar(20),\n",
    "    last_update datetime,\n",
    "    FOREIGN KEY (film_id) REFERENCES film(film_id)\n",
    ",\n",
    "    FOREIGN KEY (category_id) REFERENCES category(category_id)\n",
    "    );\n",
    "\"\"\"\n",
    ")"
   ]
  },
  {
   "cell_type": "markdown",
   "id": "728ce71e",
   "metadata": {},
   "source": [
    "+ **Actor table**"
   ]
  },
  {
   "cell_type": "code",
   "execution_count": 20,
   "id": "fb70aba3",
   "metadata": {},
   "outputs": [
    {
     "data": {
      "text/plain": [
       "'Table created!!'"
      ]
     },
     "execution_count": 20,
     "metadata": {},
     "output_type": "execute_result"
    }
   ],
   "source": [
    "createTableWithSql(cur,conn,\"\"\"\n",
    "    CREATE TABLE actor (\n",
    "    actor_id varchar(20) PRIMARY KEY ,\n",
    "    first_name varchar(20),\n",
    "    last_name varchar(20),\n",
    "    last_update datetime\n",
    "    );\n",
    "\"\"\"\n",
    ")"
   ]
  },
  {
   "cell_type": "markdown",
   "id": "5b3abf2d",
   "metadata": {},
   "source": [
    "+ **Film_actor table**"
   ]
  },
  {
   "cell_type": "code",
   "execution_count": 52,
   "id": "9511e37f",
   "metadata": {},
   "outputs": [
    {
     "data": {
      "text/plain": [
       "'Table created!!'"
      ]
     },
     "execution_count": 52,
     "metadata": {},
     "output_type": "execute_result"
    }
   ],
   "source": [
    "createTableWithSql(cur,conn,\"\"\"\n",
    "    CREATE TABLE film_actor (\n",
    "    actor_id varchar(20) PRIMARY KEY, \n",
    "    film_id varchar(20),\n",
    "    last_update datetime,\n",
    "    FOREIGN KEY (film_id) REFERENCES film(film_id)\n",
    ",\n",
    "    FOREIGN KEY (actor_id) REFERENCES actor(actor_id)\n",
    "    );\n",
    "\"\"\"\n",
    ")"
   ]
  },
  {
   "cell_type": "markdown",
   "id": "b27afc65",
   "metadata": {},
   "source": [
    "+ **Store table**"
   ]
  },
  {
   "cell_type": "code",
   "execution_count": 22,
   "id": "d1765248",
   "metadata": {},
   "outputs": [
    {
     "data": {
      "text/plain": [
       "'Table created!!'"
      ]
     },
     "execution_count": 22,
     "metadata": {},
     "output_type": "execute_result"
    }
   ],
   "source": [
    "createTableWithSql(cur,conn,\"\"\"\n",
    "    CREATE TABLE store (\n",
    "    store_id varchar(20) PRIMARY KEY ,\n",
    "    address_id varchar(20),\n",
    "    last_update datetime,\n",
    "    FOREIGN KEY (address_id) REFERENCES address(address_id)\n",
    "    );\n",
    "\"\"\"\n",
    ")"
   ]
  },
  {
   "cell_type": "markdown",
   "id": "67439a67",
   "metadata": {},
   "source": [
    "+ **Staff table**"
   ]
  },
  {
   "cell_type": "code",
   "execution_count": 36,
   "id": "09503c32",
   "metadata": {},
   "outputs": [
    {
     "data": {
      "text/plain": [
       "mysql.connector.errors.ProgrammingError(1050,\n",
       "                                        \"1050 (42S01): Table 'staff' already exists\",\n",
       "                                        '42S01')"
      ]
     },
     "execution_count": 36,
     "metadata": {},
     "output_type": "execute_result"
    }
   ],
   "source": [
    "createTableWithSql(cur,conn,\"\"\"\n",
    "    CREATE TABLE staff (\n",
    "    staff_id varchar(20) PRIMARY KEY ,\n",
    "    first_name varchar(20),\n",
    "    last_name varchar(20),\n",
    "    address_id varchar(20),\n",
    "    email varchar(20),\n",
    "    active BOOLEAN,\n",
    "    username varchar(20),\n",
    "    password varchar(255),\n",
    "    last_update datetime,\n",
    "    FOREIGN KEY (address_id) REFERENCES address(address_id)\n",
    "    );\n",
    "\"\"\"\n",
    ")"
   ]
  },
  {
   "cell_type": "markdown",
   "id": "a56a87d4",
   "metadata": {},
   "source": [
    "+ **Adding FOREIGN KEYS for Staff and Store tables**"
   ]
  },
  {
   "cell_type": "code",
   "execution_count": 37,
   "id": "a47bd9b9",
   "metadata": {},
   "outputs": [
    {
     "data": {
      "text/plain": [
       "mysql.connector.errors.ProgrammingError(1060,\n",
       "                                        \"1060 (42S21): Duplicate column name 'manager_id'\",\n",
       "                                        '42S21')"
      ]
     },
     "execution_count": 37,
     "metadata": {},
     "output_type": "execute_result"
    }
   ],
   "source": [
    "createTableWithSql(cur,conn,\"\"\"\n",
    "    ALTER TABLE store ADD COLUMN manager_id varchar(20)\n",
    "    );\n",
    "\"\"\"\n",
    ")"
   ]
  },
  {
   "cell_type": "code",
   "execution_count": 38,
   "id": "4de3f985",
   "metadata": {},
   "outputs": [
    {
     "data": {
      "text/plain": [
       "mysql.connector.errors.DatabaseError(1005,\n",
       "                                     '1005 (HY000): Can\\'t create table `dvdrentaldb`.`store` (errno: 121 \"Duplicate key on write or update\")',\n",
       "                                     'HY000')"
      ]
     },
     "execution_count": 38,
     "metadata": {},
     "output_type": "execute_result"
    }
   ],
   "source": [
    "createTableWithSql(cur,conn,\"\"\"\n",
    "    ALTER TABLE store ADD CONSTRAINT fk_store_staff\n",
    "    );\n",
    "\"\"\"\n",
    ")"
   ]
  },
  {
   "cell_type": "code",
   "execution_count": null,
   "id": "58b07348",
   "metadata": {},
   "outputs": [],
   "source": [
    "createTableWithSql(cur,conn,\"\"\"\n",
    "    FOREIGN KEY (manager_id) REFERENCES staff(staff_id)\n",
    "    );\n",
    "\"\"\"\n",
    ")"
   ]
  },
  {
   "cell_type": "code",
   "execution_count": 42,
   "id": "9f07e327",
   "metadata": {},
   "outputs": [
    {
     "data": {
      "text/plain": [
       "mysql.connector.errors.ProgrammingError(1060,\n",
       "                                        \"1060 (42S21): Duplicate column name 'store_id'\",\n",
       "                                        '42S21')"
      ]
     },
     "execution_count": 42,
     "metadata": {},
     "output_type": "execute_result"
    }
   ],
   "source": [
    "createTableWithSql(cur,conn,\"\"\"\n",
    "    ALTER TABLE staff ADD COLUMN store_id varchar(20)\n",
    "    );\n",
    "\"\"\"\n",
    ")"
   ]
  },
  {
   "cell_type": "code",
   "execution_count": 46,
   "id": "cfe8bfd1",
   "metadata": {},
   "outputs": [
    {
     "data": {
      "text/plain": [
       "mysql.connector.errors.DatabaseError(1005,\n",
       "                                     '1005 (HY000): Can\\'t create table `dvdrentaldb`.`staff` (errno: 121 \"Duplicate key on write or update\")',\n",
       "                                     'HY000')"
      ]
     },
     "execution_count": 46,
     "metadata": {},
     "output_type": "execute_result"
    }
   ],
   "source": [
    "createTableWithSql(cur,conn,\"\"\"\n",
    "    ALTER TABLE staff ADD CONSTRAINT fk_staff_store\n",
    "    );\n",
    "\"\"\"\n",
    ")"
   ]
  },
  {
   "cell_type": "code",
   "execution_count": null,
   "id": "104d0c7a",
   "metadata": {},
   "outputs": [],
   "source": [
    "createTableWithSql(cur,conn,\"\"\"\n",
    "    FOREIGN KEY (store_id) REFERENCES store(store_id)\n",
    "    );\n",
    "\"\"\"\n",
    ")"
   ]
  },
  {
   "cell_type": "markdown",
   "id": "7bfa5cbf",
   "metadata": {},
   "source": [
    "+ **Customer table**"
   ]
  },
  {
   "cell_type": "code",
   "execution_count": 49,
   "id": "179a5292",
   "metadata": {},
   "outputs": [
    {
     "data": {
      "text/plain": [
       "'Table created!!'"
      ]
     },
     "execution_count": 49,
     "metadata": {},
     "output_type": "execute_result"
    }
   ],
   "source": [
    "createTableWithSql(cur,conn,\"\"\"\n",
    "    CREATE TABLE customer (\n",
    "    customer_id varchar(20) PRIMARY KEY ,\n",
    "    store_id varchar(20),\n",
    "    first_name varchar(20),\n",
    "    last_name varchar(20),\n",
    "    email varchar(20),\n",
    "    address_id varchar(20),\n",
    "    activebool BOOLEAN,\n",
    "    create_date datetime,\n",
    "    last_update datetime,\n",
    "    active varchar(20),\n",
    "    \n",
    "    FOREIGN KEY (store_id) REFERENCES store(store_id)\n",
    "    );\n",
    "\"\"\"\n",
    ")"
   ]
  },
  {
   "cell_type": "markdown",
   "id": "9175fa1b",
   "metadata": {},
   "source": [
    "+ **Inventory table**"
   ]
  },
  {
   "cell_type": "code",
   "execution_count": 50,
   "id": "9e18cda0",
   "metadata": {},
   "outputs": [
    {
     "data": {
      "text/plain": [
       "'Table created!!'"
      ]
     },
     "execution_count": 50,
     "metadata": {},
     "output_type": "execute_result"
    }
   ],
   "source": [
    "createTableWithSql(cur,conn,\"\"\"\n",
    "    CREATE TABLE inventory (\n",
    "    inventory_id varchar(20) PRIMARY KEY ,\n",
    "    film_id varchar(20),\n",
    "    store_id varchar(20),\n",
    "    last_update datetime,\n",
    "    \n",
    "    FOREIGN KEY (film_id) REFERENCES film(film_id),\n",
    "    FOREIGN KEY (store_id) REFERENCES store(store_id)\n",
    "    );\n",
    "\"\"\"\n",
    ")"
   ]
  },
  {
   "cell_type": "markdown",
   "id": "a50bac25",
   "metadata": {},
   "source": [
    "+ **Rental table**"
   ]
  },
  {
   "cell_type": "code",
   "execution_count": 51,
   "id": "9d50bbcb",
   "metadata": {},
   "outputs": [
    {
     "data": {
      "text/plain": [
       "'Table created!!'"
      ]
     },
     "execution_count": 51,
     "metadata": {},
     "output_type": "execute_result"
    }
   ],
   "source": [
    "createTableWithSql(cur,conn,\"\"\"\n",
    "    CREATE TABLE rental (\n",
    "    rental_id varchar(20) PRIMARY KEY ,\n",
    "    rental_date datetime,\n",
    "    inventory_id varchar(20),\n",
    "    customer_id varchar(20),\n",
    "    return_date datetime,\n",
    "    staff_id varchar(20),\n",
    "    last_update datetime,\n",
    "    \n",
    "    FOREIGN KEY (inventory_id) REFERENCES inventory(inventory_id),\n",
    "    FOREIGN KEY (customer_id) REFERENCES customer(customer_id),\n",
    "    FOREIGN KEY (staff_id) REFERENCES staff(staff_id)\n",
    "    );\n",
    "\"\"\"\n",
    ")"
   ]
  },
  {
   "cell_type": "markdown",
   "id": "2262a5ad",
   "metadata": {},
   "source": [
    "+ **Payment table**"
   ]
  },
  {
   "cell_type": "code",
   "execution_count": 53,
   "id": "8914dc2a",
   "metadata": {},
   "outputs": [
    {
     "data": {
      "text/plain": [
       "'Table created!!'"
      ]
     },
     "execution_count": 53,
     "metadata": {},
     "output_type": "execute_result"
    }
   ],
   "source": [
    "createTableWithSql(cur,conn,\"\"\"\n",
    "    CREATE TABLE payment (\n",
    "    payment_id varchar(20) PRIMARY KEY ,\n",
    "    customer_id varchar(20),\n",
    "    staff_id varchar(20),\n",
    "    rental_id varchar(20),\n",
    "    amount varchar(20),\n",
    "    payment_date datetime,\n",
    "    \n",
    "    FOREIGN KEY (customer_id) REFERENCES customer(customer_id),\n",
    "    FOREIGN KEY (staff_id) REFERENCES staff(staff_id),\n",
    "    FOREIGN KEY (rental_id) REFERENCES rental(rental_id)\n",
    "    );\n",
    "\"\"\"\n",
    ")"
   ]
  },
  {
   "cell_type": "code",
   "execution_count": null,
   "id": "7033f418",
   "metadata": {},
   "outputs": [],
   "source": []
  },
  {
   "cell_type": "markdown",
   "id": "4b09c616",
   "metadata": {},
   "source": [
    "# Creating tables"
   ]
  },
  {
   "cell_type": "code",
   "execution_count": null,
   "id": "458af1e6",
   "metadata": {},
   "outputs": [],
   "source": [
    "def csvToDb(conn,cur,csv,tableName):\n",
    "    pass\n"
   ]
  }
 ],
 "metadata": {
  "kernelspec": {
   "display_name": "Python 3 (ipykernel)",
   "language": "python",
   "name": "python3"
  },
  "language_info": {
   "codemirror_mode": {
    "name": "ipython",
    "version": 3
   },
   "file_extension": ".py",
   "mimetype": "text/x-python",
   "name": "python",
   "nbconvert_exporter": "python",
   "pygments_lexer": "ipython3",
  }
 },
 "nbformat": 4,
 "nbformat_minor": 5
}
