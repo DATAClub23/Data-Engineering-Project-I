{
 "cells": [
  {
   "cell_type": "code",
   "execution_count": 1,
   "id": "075d9117",
   "metadata": {},
   "outputs": [
    {
     "name": "stdout",
     "output_type": "stream",
     "text": [
      "Defaulting to user installation because normal site-packages is not writeable\n",
      "Collecting mysql-connector-python\n",
      "  Downloading mysql_connector_python-8.0.32-cp39-cp39-win_amd64.whl (7.9 MB)\n",
      "     ---------------------------------------- 7.9/7.9 MB 230.8 kB/s eta 0:00:00\n",
      "Collecting protobuf<=3.20.3,>=3.11.0\n",
      "  Downloading protobuf-3.20.3-cp39-cp39-win_amd64.whl (904 kB)\n",
      "     ------------------------------------ 904.2/904.2 kB 291.9 kB/s eta 0:00:00\n",
      "Installing collected packages: protobuf, mysql-connector-python\n",
      "Successfully installed mysql-connector-python-8.0.32 protobuf-3.20.3\n"
     ]
    }
   ],
   "source": [
    "!pip install mysql-connector-python"
   ]
  },
  {
   "cell_type": "code",
   "execution_count": 2,
   "id": "3a34cb7b",
   "metadata": {},
   "outputs": [],
   "source": [
    "from mysql import connector"
   ]
  },
  {
   "cell_type": "code",
   "execution_count": 4,
   "id": "ba2fdaa3",
   "metadata": {},
   "outputs": [
    {
     "name": "stdout",
     "output_type": "stream",
     "text": [
      "Connected to club_db\n"
     ]
    }
   ],
   "source": [
    "conn = connector.Connect(host=\"localhost\",    # your host, usually localhost\n",
    "                                 user=\"root\",         # your username\n",
    "                                 port=\"3306\",         # port (3306 default)\n",
    "                                 )       # name of the database\n",
    "# Creating the cursor\n",
    "cur = conn.cursor()\n",
    "print(\"Connected to Mysql\")\n",
    "\n"
   ]
  },
  {
   "cell_type": "code",
   "execution_count": 5,
   "id": "addd9be0",
   "metadata": {},
   "outputs": [],
   "source": [
    "cur.execute(\"Create database test2\")"
   ]
  },
  {
   "cell_type": "code",
   "execution_count": 6,
   "id": "cb399af9",
   "metadata": {},
   "outputs": [
    {
     "name": "stdout",
     "output_type": "stream",
     "text": [
      "Connected to test2\n"
     ]
    }
   ],
   "source": [
    "conn = connector.Connect(host=\"localhost\",    # your host, usually localhost\n",
    "                                 user=\"root\",         # your username\n",
    "                                 port=\"3306\",\n",
    "                                 db=\"test2\"# port (3306 default)\n",
    "                                 )       # name of the database\n",
    "# Creating the cursor\n",
    "cur = conn.cursor()\n",
    "print(\"Connected to test2\")\n"
   ]
  },
  {
   "cell_type": "code",
   "execution_count": 10,
   "id": "9d498fe0",
   "metadata": {},
   "outputs": [
    {
     "name": "stdout",
     "output_type": "stream",
     "text": [
      "done\n"
     ]
    }
   ],
   "source": [
    "cur.execute(\"CREATE TABLE IF NOT EXISTS table2test ( id int Primary key );\")\n",
    "print(\"done\")"
   ]
  },
  {
   "cell_type": "code",
   "execution_count": 11,
   "id": "372e18a1",
   "metadata": {},
   "outputs": [],
   "source": [
    "cur.execute(\"ALTER TABLE table2test \\\n",
    "            ADD name varchar(10);\")\n"
   ]
  },
  {
   "cell_type": "code",
   "execution_count": null,
   "id": "aac599a6",
   "metadata": {},
   "outputs": [],
   "source": []
  }
 ],
 "metadata": {
  "kernelspec": {
   "display_name": "Python 3 (ipykernel)",
   "language": "python",
   "name": "python3"
  },
  "language_info": {
   "codemirror_mode": {
    "name": "ipython",
    "version": 3
   },
   "file_extension": ".py",
   "mimetype": "text/x-python",
   "name": "python",
   "nbconvert_exporter": "python",
   "pygments_lexer": "ipython3",
   "version": "3.9.13"
  }
 },
 "nbformat": 4,
 "nbformat_minor": 5
}
