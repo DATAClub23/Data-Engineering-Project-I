{
 "cells": [
  {
   "cell_type": "markdown",
   "id": "66ed8496",
   "metadata": {},
   "source": [
    "# Required packages"
   ]
  },
  {
   "cell_type": "code",
   "execution_count": 1,
   "id": "c99cc2df",
   "metadata": {},
   "outputs": [
    {
     "name": "stdout",
     "output_type": "stream",
     "text": [
      "Defaulting to user installation because normal site-packages is not writeable\n",
      "Collecting mysql-connector-python\n",
      "  Downloading mysql_connector_python-8.0.32-cp39-cp39-win_amd64.whl (7.9 MB)\n",
      "     ---------------------------------------- 7.9/7.9 MB 230.8 kB/s eta 0:00:00\n",
      "Collecting protobuf<=3.20.3,>=3.11.0\n",
      "  Downloading protobuf-3.20.3-cp39-cp39-win_amd64.whl (904 kB)\n",
      "     ------------------------------------ 904.2/904.2 kB 291.9 kB/s eta 0:00:00\n",
      "Installing collected packages: protobuf, mysql-connector-python\n",
      "Successfully installed mysql-connector-python-8.0.32 protobuf-3.20.3\n"
     ]
    }
   ],
   "source": [
    "!pip install mysql-connector-python"
   ]
  },
  {
   "cell_type": "code",
   "execution_count": 8,
   "id": "c3608247",
   "metadata": {},
   "outputs": [],
   "source": [
    "from mysql import connector"
   ]
  },
  {
   "cell_type": "markdown",
   "id": "cc172e47",
   "metadata": {},
   "source": [
    "# Connecting to Mysql"
   ]
  },
  {
   "cell_type": "code",
   "execution_count": 22,
   "id": "60b95915",
   "metadata": {},
   "outputs": [
    {
     "name": "stdout",
     "output_type": "stream",
     "text": [
      "Connected to MySQL\n"
     ]
    },
    {
     "data": {
      "text/plain": [
       "(<mysql.connector.connection.MySQLConnection at 0x1b4bd100850>,\n",
       " <mysql.connector.cursor.MySQLCursor at 0x1b4bcf446a0>)"
      ]
     },
     "execution_count": 22,
     "metadata": {},
     "output_type": "execute_result"
    }
   ],
   "source": [
    "def connectMySQL():\n",
    "    try :\n",
    "        conn = connector.Connect(host=\"localhost\",    # your host, usually localhost\n",
    "                                         user=\"root\",         # your username\n",
    "                                         port=\"3306\"         # port (3306 default)\n",
    "                                         )      \n",
    "        # Creating the cursor\n",
    "        cur = conn.cursor()\n",
    "        print(\"Connected to MySQL\")\n",
    "        return conn,cur\n",
    "    \n",
    "    except connector.Error as e:\n",
    "        print(e)\n",
    "        return e\n",
    "        \n",
    "    \n",
    "\n",
    "connectMySQL()\n"
   ]
  },
  {
   "cell_type": "markdown",
   "id": "23700f04",
   "metadata": {},
   "source": [
    "# Creating a database"
   ]
  },
  {
   "cell_type": "code",
   "execution_count": 26,
   "id": "f8140dfd",
   "metadata": {},
   "outputs": [
    {
     "name": "stdout",
     "output_type": "stream",
     "text": [
      "Connected to MySQL\n",
      "1007 (HY000): Can't create database 'dvdrentaldb'; database exists\n"
     ]
    }
   ],
   "source": [
    "def createDb(nameDB):\n",
    "    conn,cur=connectMySQL()\n",
    "    try :\n",
    "        cur.execute(f\"Create database {nameDB}\")\n",
    "        cur.execute(\"commit\")\n",
    "        # Closing the connection to the default database\n",
    "        conn.close()\n",
    "        \n",
    "    except connector.Error as e :\n",
    "        print(e)\n",
    "\n",
    "createDb(\"DVDrentalDB\")\n",
    "    "
   ]
  },
  {
   "cell_type": "markdown",
   "id": "dc5abda4",
   "metadata": {},
   "source": [
    "# Connecting to a database"
   ]
  },
  {
   "cell_type": "code",
   "execution_count": 9,
   "id": "638a9965",
   "metadata": {},
   "outputs": [
    {
     "name": "stdout",
     "output_type": "stream",
     "text": [
      "Connected to DVDrentalDB\n"
     ]
    }
   ],
   "source": [
    "def connectDB(nameDB):\n",
    "    try :\n",
    "        conn = connector.Connect(host=\"localhost\",    # your host, usually localhost\n",
    "                                 user=\"root\",         # your username\n",
    "                                 port=\"3306\",         # port (3306 default)\n",
    "                                 db=nameDB\n",
    "                                         )      \n",
    "        # Creating the cursor\n",
    "        cur = conn.cursor()\n",
    "        print(f\"Connected to {nameDB}\")\n",
    "        return conn,cur\n",
    "    \n",
    "    except connector.Error as e:\n",
    "        print(e)\n",
    "        return e\n",
    "    \n",
    "conn,cur=connectDB(\"DVDrentalDB\")"
   ]
  },
  {
   "cell_type": "markdown",
   "id": "5928d361",
   "metadata": {},
   "source": [
    "# Creating tables"
   ]
  },
  {
   "cell_type": "code",
   "execution_count": 1,
   "id": "e5981a72",
   "metadata": {},
   "outputs": [],
   "source": [
    "def generateTableCreation():\n",
    "    tableName=input(\"Enter the name of the Table : \")\n",
    "    numberColumns=int(input(f\"How many columns are there in {tableName} ? \"))\n",
    "    columns={}\n",
    "    for i in range(numberColumns):\n",
    "        nameColumn=input(f\"Name of the column N°{i+1} : \")\n",
    "        while nameColumn in columns.keys():\n",
    "            nameColumn=input(f\"Please choose another name for the column N°{i+1} : \")\n",
    "        typeColumn=input(f\"type of the column N°{i+1} : \")\n",
    "        columns[nameColumn]=typeColumn\n",
    "    \n",
    "    primaryKey=input(\"Choose the primary key : \")\n",
    "    while primaryKey not in columns.keys():\n",
    "        primaryKey=input(\"Choose a primary key from the existing columns : \")\n",
    "\n",
    "    \n",
    "    foreignKeys={}\n",
    "    numberFk=int(input(\"how many foreign keys are there ? : \"))\n",
    "    while numberFk > len(columns)-1 and numberFk<0:\n",
    "        numberFk=int(input(\"Please enter a valid number of foreign keys : \"))\n",
    "    \n",
    "    for i in range(numberFk):\n",
    "        foreignKey=input(f\"Enter foreign key N°{i+1} : \")\n",
    "        while (foreignKey not in columns.keys() ) or  (foreignKey in foreignKeys.keys()):\n",
    "            foreignKey=input(f\"Please enter a valid foreign key : \")\n",
    "        \n",
    "        referenceTable=input(f\"Enter the reference Table name for the {foreignKey} : \")\n",
    "        referenceName=input(f\"Enter the reference name of {foreignKey} in the {referenceTable} table : \")\n",
    "        foreignKeys[foreignKey]=[referenceTable,referenceName]\n",
    "    \n",
    "    print(\"\\n----------------------\\n\")\n",
    "        \n",
    "    print('\"\"\"')\n",
    "    \n",
    "    print(f\"    CREATE TABLE {tableName} (\")\n",
    "    print(f\"    {primaryKey} {columns[primaryKey]} PRIMARY KEY \",end=\"\")\n",
    "    for k,v in columns.items():\n",
    "        if k==primaryKey:\n",
    "            continue\n",
    "        print(f\",\\n    {k} {v}\",end=\"\")\n",
    "    \n",
    "    for key in foreignKeys:\n",
    "        print(f\",\\n    FOREIGN KEY ({key}) REFERENCES {foreignKeys[key][0]}({foreignKeys[key][1]})\")\n",
    "    \n",
    "    print(\"    );\")\n",
    "    print('\"\"\"')\n",
    "            "
   ]
  },
  {
   "cell_type": "code",
   "execution_count": 48,
   "id": "1533fbfb",
   "metadata": {},
   "outputs": [
    {
     "name": "stdout",
     "output_type": "stream",
     "text": [
      "Enter the name of the Table : film_category\n",
      "How many columns are there in film_category ? 3\n",
      "Name of the column N°1 : film_id\n",
      "type of the column N°1 : varchar(20)\n",
      "Name of the column N°2 : category_id\n",
      "type of the column N°2 : varchar(20)\n",
      "Name of the column N°3 : last_update\n",
      "type of the column N°3 : datetime\n",
      "Choose the primary key : film_id\n",
      "how many foreign keys are there ? : 2\n",
      "Enter foreign key N°1 : film_id\n",
      "Enter the reference Table name for the film_id : film\n",
      "Enter the reference name of film_id in the film table : film_id\n",
      "Enter foreign key N°2 : category_id\n",
      "Enter the reference Table name for the category_id : category\n",
      "Enter the reference name of category_id in the category table : category_id\n",
      "\n",
      "----------------------\n",
      "\n",
      "\"\"\"\n",
      "    CREATE TABLE film_category (\n",
      "    film_id varchar(20) PRIMARY KEY ,\n",
      "    category_id varchar(20),\n",
      "    last_update datetime,\n",
      "    FOREIGN KEY (film_id) REFERENCES film(film_id)\n",
      ",\n",
      "    FOREIGN KEY (category_id) REFERENCES category(category_id)\n",
      "    );\n",
      "\"\"\"\n"
     ]
    }
   ],
   "source": [
    "generateTableCreation()"
   ]
  },
  {
   "cell_type": "code",
   "execution_count": 14,
   "id": "ef8b0d47",
   "metadata": {},
   "outputs": [],
   "source": [
    "def createTableWithSql(cur,conn,sqlQuery):\n",
    "    try:\n",
    "        cur.execute(sqlQuery)\n",
    "        conn.commit()\n",
    "        \n",
    "        return \"Table created!!\"\n",
    "    except connector.Error as e:\n",
    "        return e\n",
    "\n"
   ]
  },
  {
   "cell_type": "markdown",
   "id": "0c250760",
   "metadata": {},
   "source": [
    "+ **Country table**"
   ]
  },
  {
   "cell_type": "code",
   "execution_count": 17,
   "id": "a4adcf9a",
   "metadata": {},
   "outputs": [
    {
     "data": {
      "text/plain": [
       "'Table created!!'"
      ]
     },
     "execution_count": 17,
     "metadata": {},
     "output_type": "execute_result"
    }
   ],
   "source": [
    "createTableWithSql(cur,conn,\"\"\"\n",
    "    CREATE TABLE country (\n",
    "    country_id varchar(20) PRIMARY KEY ,\n",
    "    country char(20),\n",
    "    last_update datetime    );\n",
    "\"\"\"\n",
    ")"
   ]
  },
  {
   "cell_type": "markdown",
   "id": "c709567e",
   "metadata": {},
   "source": [
    "+ **City table**"
   ]
  },
  {
   "cell_type": "code",
   "execution_count": 23,
   "id": "ba7e0772",
   "metadata": {},
   "outputs": [
    {
     "data": {
      "text/plain": [
       "'Table created!!'"
      ]
     },
     "execution_count": 23,
     "metadata": {},
     "output_type": "execute_result"
    }
   ],
   "source": [
    "createTableWithSql(cur,conn,\"\"\"\n",
    "    CREATE TABLE city (\n",
    "    city_id varchar(20) PRIMARY KEY ,\n",
    "    city char(20),\n",
    "    country_id varchar(20),\n",
    "    last_update datetime,\n",
    "    FOREIGN KEY (country_id) REFERENCES country(country_id)\n",
    "    );\n",
    "\"\"\"\n",
    ")"
   ]
  },
  {
   "cell_type": "markdown",
   "id": "072d3677",
   "metadata": {},
   "source": [
    "+ **Address table**"
   ]
  },
  {
   "cell_type": "code",
   "execution_count": 33,
   "id": "3f755ec2",
   "metadata": {},
   "outputs": [
    {
     "data": {
      "text/plain": [
       "'Table created!!'"
      ]
     },
     "execution_count": 33,
     "metadata": {},
     "output_type": "execute_result"
    }
   ],
   "source": [
    "createTableWithSql(cur,conn,\"\"\"\n",
    "    CREATE TABLE address (\n",
    "    address_id varchar(20) PRIMARY KEY ,\n",
    "    address varchar(100),\n",
    "    address2 varchar(100),\n",
    "    district varchar(40),\n",
    "    city_id varchar(20),\n",
    "    postal_code numeric(6),\n",
    "    phone numeric(10),\n",
    "    last_update datetime,\n",
    "    FOREIGN KEY (city_id) REFERENCES city(city_id)\n",
    "    );\n",
    "\"\"\"\n",
    ")"
   ]
  },
  {
   "cell_type": "markdown",
   "id": "fd993a58",
   "metadata": {},
   "source": [
    "+ **Language table**"
   ]
  },
  {
   "cell_type": "code",
   "execution_count": 45,
   "id": "7b127f3c",
   "metadata": {},
   "outputs": [
    {
     "data": {
      "text/plain": [
       "'Table created!!'"
      ]
     },
     "execution_count": 45,
     "metadata": {},
     "output_type": "execute_result"
    }
   ],
   "source": [
    "createTableWithSql(cur,conn,\"\"\"\n",
    "    CREATE TABLE language (\n",
    "    language_id varchar(5) PRIMARY KEY ,\n",
    "    name char(20),\n",
    "    last_update datetime    );\n",
    "\"\"\"\n",
    ")"
   ]
  },
  {
   "cell_type": "markdown",
   "id": "4d33a14b",
   "metadata": {},
   "source": [
    "+ **Film table**"
   ]
  },
  {
   "cell_type": "code",
   "execution_count": 47,
   "id": "b81229a4",
   "metadata": {},
   "outputs": [
    {
     "data": {
      "text/plain": [
       "'Table created!!'"
      ]
     },
     "execution_count": 47,
     "metadata": {},
     "output_type": "execute_result"
    }
   ],
   "source": [
    "createTableWithSql(cur,conn,\"\"\"\n",
    "    CREATE TABLE film (\n",
    "    film_id varchar(20) PRIMARY KEY ,\n",
    "    title varchar(50),\n",
    "    description char(200),\n",
    "    release_year year,\n",
    "    language_id varchar(5),\n",
    "    rental_duration datetime,\n",
    "    rental_rate numeric(2),\n",
    "    length numeric(5),\n",
    "    replacement_cost numeric(5,2),\n",
    "    rating numeric(2),\n",
    "    last_update datetime,\n",
    "    special_features char(200),\n",
    "    full_text varchar(100),\n",
    "    FOREIGN KEY (language_id) REFERENCES language(language_id)\n",
    "    );\n",
    "\"\"\"\n",
    ")"
   ]
  },
  {
   "cell_type": "markdown",
   "id": "d3811e76",
   "metadata": {},
   "source": [
    "+ **Category table**"
   ]
  },
  {
   "cell_type": "code",
   "execution_count": 37,
   "id": "987a6211",
   "metadata": {},
   "outputs": [
    {
     "data": {
      "text/plain": [
       "'Table created!!'"
      ]
     },
     "execution_count": 37,
     "metadata": {},
     "output_type": "execute_result"
    }
   ],
   "source": [
    "createTableWithSql(cur,conn,\"\"\"\n",
    "    CREATE TABLE category (\n",
    "    category_id varchar(20) PRIMARY KEY ,\n",
    "    name varchar(20),\n",
    "    last_update datetime    );\n",
    "\"\"\"\n",
    ")"
   ]
  },
  {
   "cell_type": "markdown",
   "id": "6f80dd17",
   "metadata": {},
   "source": [
    "+ **Film_Category table**"
   ]
  },
  {
   "cell_type": "code",
   "execution_count": 49,
   "id": "271ecf8a",
   "metadata": {},
   "outputs": [
    {
     "data": {
      "text/plain": [
       "'Table created!!'"
      ]
     },
     "execution_count": 49,
     "metadata": {},
     "output_type": "execute_result"
    }
   ],
   "source": [
    "createTableWithSql(cur,conn,\"\"\"\n",
    "    CREATE TABLE film_category (\n",
    "    film_id varchar(20) PRIMARY KEY ,\n",
    "    category_id varchar(20),\n",
    "    last_update datetime,\n",
    "    FOREIGN KEY (film_id) REFERENCES film(film_id)\n",
    ",\n",
    "    FOREIGN KEY (category_id) REFERENCES category(category_id)\n",
    "    );\n",
    "\"\"\"\n",
    ")"
   ]
  },
  {
   "cell_type": "code",
   "execution_count": null,
   "id": "572a8663",
   "metadata": {},
   "outputs": [],
   "source": []
  },
  {
   "cell_type": "markdown",
   "id": "4b09c616",
   "metadata": {},
   "source": [
    "# Creating tables"
   ]
  },
  {
   "cell_type": "code",
   "execution_count": null,
   "id": "458af1e6",
   "metadata": {},
   "outputs": [],
   "source": [
    "def csvToDb(conn,cur,csv,tableName):\n",
    "    pass\n"
   ]
  }
 ],
 "metadata": {
  "kernelspec": {
   "display_name": "Python 3 (ipykernel)",
   "language": "python",
   "name": "python3"
  },
  "language_info": {
   "codemirror_mode": {
    "name": "ipython",
    "version": 3
   },
   "file_extension": ".py",
   "mimetype": "text/x-python",
   "name": "python",
   "nbconvert_exporter": "python",
   "pygments_lexer": "ipython3",
   "version": "3.9.13"
  }
 },
 "nbformat": 4,
 "nbformat_minor": 5
}
